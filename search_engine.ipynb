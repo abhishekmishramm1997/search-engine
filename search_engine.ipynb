{
  "nbformat": 4,
  "nbformat_minor": 0,
  "metadata": {
    "colab": {
      "name": "search-engine.ipynb",
      "provenance": [],
      "authorship_tag": "ABX9TyP/eDQ0gt60dFz+MJK0lvKq",
      "include_colab_link": true
    },
    "kernelspec": {
      "name": "python3",
      "display_name": "Python 3"
    }
  },
  "cells": [
    {
      "cell_type": "markdown",
      "metadata": {
        "id": "view-in-github",
        "colab_type": "text"
      },
      "source": [
        "<a href=\"https://colab.research.google.com/github/harix1606/search-engine/blob/master/search_engine.ipynb\" target=\"_parent\"><img src=\"https://colab.research.google.com/assets/colab-badge.svg\" alt=\"Open In Colab\"/></a>"
      ]
    },
    {
      "cell_type": "code",
      "metadata": {
        "id": "UhISINFqfM42",
        "colab_type": "code",
        "colab": {}
      },
      "source": [
        "#The search engine is based on a linked list data structure. The nodes of the linked list contains the data that the search engine will output. In our case, the data is a bunch of Ted talks URL. So we have built Ted Talks search engine. \n",
        "# Below is the implementation of the linked list with the necessary methods. \n",
        "\n",
        "\n",
        "class node:\n",
        "    def __init__(self, val):\n",
        "        self.value = val\n",
        "        self.next = None\n",
        "\n",
        "class linked_list:\n",
        "    def __init__(self):\n",
        "        self.head_value = None\n",
        "\n",
        "    def Insert(self, newdata):\n",
        "        NewNode = node(newdata)\n",
        "        if self.head_value is None: \n",
        "            self.head_value = NewNode\n",
        "            return\n",
        "\n",
        "        last = self.head_value\n",
        "        while (last.next): \n",
        "            last = last.next\n",
        "        \n",
        "        last.next =  new_node \n",
        "        \n",
        "    \n",
        "    def atBeginning(self,newdata):\n",
        "        NewNode = node(newdata)\n",
        "        NewNode.next = self.head_value\n",
        "        self.head_value = NewNode\n",
        "\n",
        "    def listprint(self):\n",
        "        printval = self.head_value\n",
        "        while printval is not None:\n",
        "            print (printval.value)\n",
        "            printval = printval.next\n",
        "\n",
        "    def countNodes(self): \n",
        "        count = 0\n",
        "        node = self.head_value\n",
        "        while node.next is not None: \n",
        "            count += 1\n",
        "            node = node.next\n",
        "        return count\n",
        "\n",
        "    def RemoveNode(self, Removekey):\n",
        "        HeadVal = self.head_value\n",
        "\n",
        "        if (HeadVal is not None):\n",
        "            if (HeadVal.value == Removekey):\n",
        "                self.head = HeadVal.next\n",
        "                HeadVal = None\n",
        "                return\n",
        "\n",
        "        while (HeadVal is not None):\n",
        "            if HeadVal.value == Removekey:\n",
        "                break\n",
        "            prev = HeadVal\n",
        "            HeadVal = HeadVal.next\n",
        "\n",
        "        if (HeadVal == None):\n",
        "            return\n",
        "\n",
        "        prev.next = HeadVal.next\n",
        "        HeadVal = None\n",
        "\n",
        "\n",
        "\n",
        "linked_lst = linked_list()\n",
        "\n",
        "linked_lst.head_value = node(\"A\")\n",
        "node2 = node(\"B\")\n",
        "node3 = node(\"C\")\n"
      ],
      "execution_count": 0,
      "outputs": []
    }
  ]
}