{
  "nbformat": 4,
  "nbformat_minor": 0,
  "metadata": {
    "colab": {
      "name": "search-engine.ipynb",
      "provenance": [],
      "authorship_tag": "ABX9TyNRwv40iOaoh8MRurYLKPoY",
      "include_colab_link": true
    },
    "kernelspec": {
      "name": "python3",
      "display_name": "Python 3"
    }
  },
  "cells": [
    {
      "cell_type": "markdown",
      "metadata": {
        "id": "view-in-github",
        "colab_type": "text"
      },
      "source": [
        "<a href=\"https://colab.research.google.com/github/harix1606/search-engine/blob/master/search_engine.ipynb\" target=\"_parent\"><img src=\"https://colab.research.google.com/assets/colab-badge.svg\" alt=\"Open In Colab\"/></a>"
      ]
    },
    {
      "cell_type": "code",
      "metadata": {
        "id": "UhISINFqfM42",
        "colab_type": "code",
        "colab": {
          "base_uri": "https://localhost:8080/",
          "height": 459
        },
        "outputId": "ab53d72d-b5e4-4212-f350-1acaf6028ca6"
      },
      "source": [
        "#The search engine is based on a linked list data structure. The nodes of the linked list contains the data that the search engine will output. In our case, the data is a bunch of Ted talks URL. So we have built Ted Talks search engine. \n",
        "# Below is the implementation of the linked list with the necessary methods. \n",
        "\n",
        "\n",
        "class node:\n",
        "    def __init__(self, val):\n",
        "        self.value = val\n",
        "        self.next = None\n",
        "\n",
        "class linked_list:\n",
        "    def __init__(self):\n",
        "        self.head_value = None\n",
        "\n",
        "    def Insert(self, newdata):\n",
        "        NewNode = node(newdata)\n",
        "        if self.head_value is None: \n",
        "            self.head_value = NewNode\n",
        "            return\n",
        "\n",
        "        last = self.head_value\n",
        "        while (last.next): \n",
        "            last = last.next\n",
        "        \n",
        "        last.next =  NewNode \n",
        "        \n",
        "    \n",
        "    def atBeginning(self,newdata):\n",
        "        NewNode = node(newdata)\n",
        "        NewNode.next = self.head_value\n",
        "        self.head_value = NewNode\n",
        "\n",
        "    def listprint(self):\n",
        "        printval = self.head_value\n",
        "        while printval is not None:\n",
        "            print (printval.value)\n",
        "            printval = printval.next\n",
        "\n",
        "    def countNodes(self): \n",
        "        count = 0\n",
        "        node = self.head_value\n",
        "        while node.next is not None: \n",
        "            count += 1\n",
        "            node = node.next\n",
        "        return count\n",
        "\n",
        "    def RemoveNode(self, Removekey):\n",
        "        HeadVal = self.head_value\n",
        "\n",
        "        if (HeadVal is not None):\n",
        "            if (HeadVal.value == Removekey):\n",
        "                self.head = HeadVal.next\n",
        "                HeadVal = None\n",
        "                return\n",
        "\n",
        "        while (HeadVal is not None):\n",
        "            if HeadVal.value == Removekey:\n",
        "                break\n",
        "            prev = HeadVal\n",
        "            HeadVal = HeadVal.next\n",
        "\n",
        "        if (HeadVal == None):\n",
        "            return\n",
        "\n",
        "        prev.next = HeadVal.next\n",
        "        HeadVal = None\n",
        "\n",
        "\n",
        "\n",
        "linked_lst = linked_list()\n",
        "\n",
        "linked_lst.head_value = node(\"A\")\n",
        "linked_lst.Insert(\"B\")\n",
        "linked_lst.Insert(\"C\")\n",
        "linked_lst.Insert(\"D\")\n",
        "linked_lst.Insert(\"E\")\n",
        "linked_lst.Insert(\"F\")\n",
        "linked_lst.Insert(\"G\")\n",
        "linked_lst.Insert(\"H\")\n",
        "linked_lst.Insert(\"I\")\n",
        "linked_lst.Insert(\"J\")\n",
        "linked_lst.Insert(\"K\")\n",
        "linked_lst.Insert(\"L\")\n",
        "linked_lst.Insert(\"M\")\n",
        "linked_lst.Insert(\"N\")\n",
        "linked_lst.Insert(\"O\")\n",
        "linked_lst.Insert(\"P\")\n",
        "linked_lst.Insert(\"Q\")\n",
        "linked_lst.Insert(\"R\")\n",
        "linked_lst.Insert(\"S\")\n",
        "linked_lst.Insert(\"T\")\n",
        "linked_lst.Insert(\"U\")\n",
        "linked_lst.Insert(\"V\")\n",
        "linked_lst.Insert(\"W\")\n",
        "linked_lst.Insert(\"X\")\n",
        "linked_lst.Insert(\"Y\")\n",
        "linked_lst.Insert(\"Z\")\n",
        "linked_lst.listprint()\n"
      ],
      "execution_count": 11,
      "outputs": [
        {
          "output_type": "stream",
          "text": [
            "A\n",
            "B\n",
            "C\n",
            "D\n",
            "E\n",
            "F\n",
            "G\n",
            "H\n",
            "I\n",
            "J\n",
            "K\n",
            "L\n",
            "M\n",
            "N\n",
            "O\n",
            "P\n",
            "Q\n",
            "R\n",
            "S\n",
            "T\n",
            "U\n",
            "V\n",
            "W\n",
            "X\n",
            "Y\n",
            "Z\n"
          ],
          "name": "stdout"
        }
      ]
    },
    {
      "cell_type": "code",
      "metadata": {
        "id": "0djXnEhmop1e",
        "colab_type": "code",
        "colab": {}
      },
      "source": [
        ""
      ],
      "execution_count": 0,
      "outputs": []
    }
  ]
}